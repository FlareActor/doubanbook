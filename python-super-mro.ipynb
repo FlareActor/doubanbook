{
 "cells": [
  {
   "cell_type": "code",
   "execution_count": 2,
   "metadata": {
    "collapsed": true
   },
   "outputs": [],
   "source": [
    "# def super(cls, inst):\n",
    "#     mro = inst.__class__.mro()\n",
    "#     return mro[mro.index(cls) + 1]"
   ]
  },
  {
   "cell_type": "markdown",
   "metadata": {},
   "source": [
    "两个参数 cls 和 inst 分别做了两件事： \n",
    "1. inst 负责生成 MRO 的 list \n",
    "2. 通过 cls 定位当前 MRO 中的 index, 并返回 mro[index + 1] \n",
    "\n",
    "python中的super不代表父类！！！"
   ]
  },
  {
   "cell_type": "code",
   "execution_count": null,
   "metadata": {
    "scrolled": true
   },
   "outputs": [],
   "source": [
    "from pprint import pprint\n",
    "\n",
    "\n",
    "class Spider(object):\n",
    "    def __init__(self):\n",
    "        print(\"spider\")\n",
    "\n",
    "\n",
    "class BaseSpider(Spider):\n",
    "    def __init__(self):\n",
    "        super().__init__()\n",
    "        print(\"BaseSpider\")\n",
    "\n",
    "\n",
    "class RedisSpider(Spider):\n",
    "    #     def __init__(self):\n",
    "    #         super().__init__()\n",
    "    #         print(\"RedisSpider\")\n",
    "    # 如果没有找到，则在mro图中继续寻找下一个\n",
    "    pass\n",
    "\n",
    "\n",
    "class BaiduSpider(RedisSpider, BaseSpider):\n",
    "    def __init__(self):\n",
    "        super().__init__()\n",
    "        print(\"BaiduSpider\")\n",
    "\n",
    "\n",
    "pprint(BaiduSpider.mro())"
   ]
  },
  {
   "cell_type": "code",
   "execution_count": 2,
   "metadata": {},
   "outputs": [
    {
     "name": "stdout",
     "output_type": "stream",
     "text": [
      "spider\n",
      "BaseSpider\n",
      "BaiduSpider\n"
     ]
    }
   ],
   "source": [
    "s = BaiduSpider()"
   ]
  },
  {
   "cell_type": "code",
   "execution_count": null,
   "metadata": {
    "collapsed": true
   },
   "outputs": [],
   "source": [
    ""
   ]
  }
 ],
 "metadata": {
  "kernelspec": {
   "display_name": "Python 3",
   "language": "python",
   "name": "python3"
  },
  "language_info": {
   "codemirror_mode": {
    "name": "ipython",
    "version": 3.0
   },
   "file_extension": ".py",
   "mimetype": "text/x-python",
   "name": "python",
   "nbconvert_exporter": "python",
   "pygments_lexer": "ipython3",
   "version": "3.6.1"
  }
 },
 "nbformat": 4,
 "nbformat_minor": 0
}